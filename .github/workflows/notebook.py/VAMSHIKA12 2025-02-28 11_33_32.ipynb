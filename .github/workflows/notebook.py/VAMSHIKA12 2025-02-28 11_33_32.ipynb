{
 "cells": [
  {
   "cell_type": "code",
   "execution_count": null,
   "id": "fb6c46e3-f7c7-4727-9638-73f9a885f892",
   "metadata": {
    "language": "python",
    "name": "cell1"
   },
   "outputs": [],
   "source": [
    "from snowflake.snowpark import Session\n",
    "import logging\n",
    "import time\n",
    " \n",
    "# Configure logging\n",
    "logging.basicConfig(level=logging.INFO)\n",
    "logger = logging.getLogger(\"SNOWFLAKE_TASKS\")\n",
    " \n",
    "# Snowflake Connection\n",
    "connection_params = {\n",
    "    \"account\": \"dgeyskn-tob19336\",\n",
    "    \"user\": \"Vamshika12\",\n",
    "    \"password\": \"Asvmsh@12Agsgr@27\",\n",
    "    \"warehouse\": \"COMPUTE_WH\",\n",
    "    \"database\": \"FRED_FINANCIAL_DATA\",\n",
    "    \"schema\": \"HARMONIZED_DOW30\"\n",
    "}\n",
    " \n",
    "#session = Session.builder.configs(connection_params).create()\n",
    " \n",
    "def execute_stored_procedure(procedure_name):\n",
    "    \"\"\"Executes a stored procedure using the provided session.\"\"\"\n",
    "    try:\n",
    "        logger.info(f\"Executing stored procedure: {procedure_name}\")\n",
    "        session.sql(f\"CALL {procedure_name}();\").collect()\n",
    "        logger.info(f\"Stored Procedure `{procedure_name}` executed successfully.\")\n",
    "    except Exception as e:\n",
    "        logger.error(f\"Error executing {procedure_name}: {str(e)}\")\n",
    " \n",
    "def check_task_status():\n",
    "    \"\"\"Checks the latest execution status of tasks in Snowflake.\"\"\"\n",
    "    try:\n",
    "        logger.info(\"Fetching latest task execution status...\")\n",
    "        df = session.sql(\"\"\"\n",
    "            SELECT NAME, STATE, COMPLETED_TIME \n",
    "            FROM TABLE(INFORMATION_SCHEMA.TASK_HISTORY()) \n",
    "            ORDER BY COMPLETED_TIME DESC LIMIT 5\n",
    "        \"\"\").collect()\n",
    "        for row in df:\n",
    "            logger.info(f\"Task: {row['NAME']} | Status: {row['STATE']} | Completed: {row['COMPLETED_TIME']}\")\n",
    "    except Exception as e:\n",
    "        logger.error(f\"Error fetching task status: {str(e)}\")\n",
    " \n",
    "# Step 1: Execute Stored Procedures Using the Provided Session\n",
    "#execute_stored_procedure(\"PROCESS_TOM_PROCESSED_STREAM()\")\n",
    "execute_stored_procedure(\"UPDATE_TRAVEL_TIME_METRICS()\")\n",
    " \n",
    " \n",
    "# Step 2: Monitor the Task Execution\n",
    "check_task_status()\n",
    " \n",
    "print(\"Stored Procedure Triggered & Execution Status Checked!\")"
   ]
  }
 ],
 "metadata": {
  "kernelspec": {
   "display_name": "Streamlit Notebook",
   "name": "streamlit"
  },
  "lastEditStatus": {
   "authorEmail": "arkalagudsapthagir.v@northeastern.edu",
   "authorId": "7905291717296",
   "authorName": "VAMSHIKA12",
   "lastEditTime": 1740760546044,
   "notebookId": "zfvv2rs3zwfpycvx5s32",
   "sessionId": "10c409ea-b0ba-443f-a9ec-ffdd48c0919d"
  }
 },
 "nbformat": 4,
 "nbformat_minor": 5
}
